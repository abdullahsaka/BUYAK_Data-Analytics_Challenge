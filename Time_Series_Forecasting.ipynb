{
 "cells": [
  {
   "cell_type": "markdown",
   "metadata": {},
   "source": [
    "**Import packages**"
   ]
  },
  {
   "cell_type": "code",
   "execution_count": 1,
   "metadata": {
    "_cell_guid": "b1076dfc-b9ad-4769-8c92-a6c4dae69d19",
    "_uuid": "8f2839f25d086af736a60e9eeb907d3b93b6e0e5"
   },
   "outputs": [],
   "source": [
    "import numpy as np \n",
    "import seaborn as sns\n",
    "import matplotlib.pyplot as plt\n",
    "from sklearn.ensemble import ExtraTreesRegressor,RandomForestRegressor\n",
    "import math # linear algebra\n",
    "import pandas as pd # data processing, CSV file I/O (e.g. pd.read_csv)\n",
    "from sklearn.tree import DecisionTreeRegressor\n",
    "from sklearn.ensemble import RandomForestRegressor\n",
    "from sklearn.model_selection import RandomizedSearchCV"
   ]
  },
  {
   "cell_type": "code",
   "execution_count": 6,
   "metadata": {},
   "outputs": [],
   "source": [
    " karo= pd.read_excel('~/Eczacibasi-kaggle/dataset/data.xlsx')"
   ]
  },
  {
   "cell_type": "markdown",
   "metadata": {},
   "source": [
    "**Data Exploration**"
   ]
  },
  {
   "cell_type": "code",
   "execution_count": 7,
   "metadata": {},
   "outputs": [],
   "source": [
    "customer_A=karo[karo.customer=='A'].item.unique()"
   ]
  },
  {
   "cell_type": "code",
   "execution_count": 8,
   "metadata": {},
   "outputs": [],
   "source": [
    "customer_B=karo[karo.customer=='B'].item.unique()"
   ]
  },
  {
   "cell_type": "code",
   "execution_count": 9,
   "metadata": {},
   "outputs": [],
   "source": [
    "customer_C=karo[karo.customer=='C'].item.unique()"
   ]
  },
  {
   "cell_type": "code",
   "execution_count": 10,
   "metadata": {},
   "outputs": [],
   "source": [
    "karo['Year']=pd.to_datetime(karo.date).dt.year\n",
    "karo['Month']=pd.to_datetime(karo.date).dt.month\n",
    "karo['Date']=pd.to_datetime(karo.assign(Day=1).loc[:, ['Year','Month','Day']])\n",
    "karo.Date=karo.Date.apply(lambda x: x.strftime(\"%Y-%m\"))"
   ]
  },
  {
   "cell_type": "code",
   "execution_count": 11,
   "metadata": {},
   "outputs": [],
   "source": [
    "karo_agg=pd.DataFrame(karo.groupby(['customer','item','Date']).sum()).reset_index()\n",
    "karo_agg.drop(['Year','Month'],axis=1,inplace=True)\n",
    "karo_agg=karo_agg.sort_values(by=['item','Date'])"
   ]
  },
  {
   "cell_type": "code",
   "execution_count": 12,
   "metadata": {},
   "outputs": [
    {
     "data": {
      "text/html": [
       "<div>\n",
       "<style scoped>\n",
       "    .dataframe tbody tr th:only-of-type {\n",
       "        vertical-align: middle;\n",
       "    }\n",
       "\n",
       "    .dataframe tbody tr th {\n",
       "        vertical-align: top;\n",
       "    }\n",
       "\n",
       "    .dataframe thead th {\n",
       "        text-align: right;\n",
       "    }\n",
       "</style>\n",
       "<table border=\"1\" class=\"dataframe\">\n",
       "  <thead>\n",
       "    <tr style=\"text-align: right;\">\n",
       "      <th></th>\n",
       "      <th>customer</th>\n",
       "      <th>item</th>\n",
       "      <th>Date</th>\n",
       "      <th>order</th>\n",
       "    </tr>\n",
       "  </thead>\n",
       "  <tbody>\n",
       "    <tr>\n",
       "      <th>0</th>\n",
       "      <td>A</td>\n",
       "      <td>0</td>\n",
       "      <td>2018-01</td>\n",
       "      <td>216.0</td>\n",
       "    </tr>\n",
       "    <tr>\n",
       "      <th>1</th>\n",
       "      <td>A</td>\n",
       "      <td>0</td>\n",
       "      <td>2018-02</td>\n",
       "      <td>576.0</td>\n",
       "    </tr>\n",
       "    <tr>\n",
       "      <th>2</th>\n",
       "      <td>A</td>\n",
       "      <td>0</td>\n",
       "      <td>2018-03</td>\n",
       "      <td>288.0</td>\n",
       "    </tr>\n",
       "    <tr>\n",
       "      <th>3</th>\n",
       "      <td>A</td>\n",
       "      <td>0</td>\n",
       "      <td>2018-05</td>\n",
       "      <td>216.0</td>\n",
       "    </tr>\n",
       "    <tr>\n",
       "      <th>4</th>\n",
       "      <td>A</td>\n",
       "      <td>0</td>\n",
       "      <td>2018-06</td>\n",
       "      <td>216.0</td>\n",
       "    </tr>\n",
       "  </tbody>\n",
       "</table>\n",
       "</div>"
      ],
      "text/plain": [
       "  customer  item     Date  order\n",
       "0        A     0  2018-01  216.0\n",
       "1        A     0  2018-02  576.0\n",
       "2        A     0  2018-03  288.0\n",
       "3        A     0  2018-05  216.0\n",
       "4        A     0  2018-06  216.0"
      ]
     },
     "execution_count": 12,
     "metadata": {},
     "output_type": "execute_result"
    }
   ],
   "source": [
    "karo_agg.head()"
   ]
  },
  {
   "cell_type": "code",
   "execution_count": 13,
   "metadata": {},
   "outputs": [],
   "source": [
    "# Calculate train data size for each store & department combinations\n",
    "period_length=[]\n",
    "store_index=[]\n",
    "for i in karo_agg.item.unique():\n",
    "            store_index += [i]\n",
    "            perleng=len(karo_agg[(karo_agg.item==i)])\n",
    "            df=karo_agg[karo_agg.item==i]['order']\n",
    "            period_length += [perleng]"
   ]
  },
  {
   "cell_type": "code",
   "execution_count": 14,
   "metadata": {},
   "outputs": [],
   "source": [
    "pd.set_option('display.max_rows', None)\n",
    "store_index = pd.DataFrame(store_index)\n",
    "store_index=store_index.rename(columns={0:'Store'})\n",
    "period_length =pd.DataFrame(period_length)\n",
    "train_data_size=pd.concat([store_index,period_length],axis=1)\n",
    "train_data_size=train_data_size.rename(columns={0:'Size'})"
   ]
  },
  {
   "cell_type": "code",
   "execution_count": 15,
   "metadata": {},
   "outputs": [],
   "source": [
    "Dates=karo_agg[karo_agg.item==2][['Date']]"
   ]
  },
  {
   "cell_type": "code",
   "execution_count": 16,
   "metadata": {},
   "outputs": [],
   "source": [
    "df=pd.DataFrame()\n",
    "for i in karo_agg['item'].unique():\n",
    "    order=karo_agg[karo_agg.item==i]\n",
    "    df_inter=pd.merge(Dates,order,on='Date',how='left')\n",
    "    df_inter['item']=df_inter['item'].fillna(i)\n",
    "    df_inter['customer']=df_inter['customer'].fillna(np.array(df_inter['customer'].unique()[0]))\n",
    "    df_inter['order']=df_inter['order'].fillna(df_inter['order'].median())\n",
    "    df=df.append(df_inter, ignore_index=True)"
   ]
  },
  {
   "cell_type": "code",
   "execution_count": 17,
   "metadata": {},
   "outputs": [],
   "source": [
    "karo_agg=df.copy()"
   ]
  },
  {
   "cell_type": "code",
   "execution_count": 18,
   "metadata": {},
   "outputs": [],
   "source": [
    "train_date=np.array(Dates.Date[:25])\n",
    "valid_date=np.array(Dates.Date[25:])"
   ]
  },
  {
   "cell_type": "code",
   "execution_count": 19,
   "metadata": {},
   "outputs": [],
   "source": [
    "karo_train=karo_agg.loc[karo_agg['Date'].isin(train_date)].reset_index(drop=True)\n",
    "karo_valid=karo_agg.loc[karo_agg['Date'].isin(valid_date)].reset_index(drop=True)"
   ]
  },
  {
   "cell_type": "code",
   "execution_count": 20,
   "metadata": {},
   "outputs": [],
   "source": [
    "sample_9_train=karo_train[karo_train.item==79]\n",
    "sample_9_valid=karo_valid[karo_valid.item==79]"
   ]
  },
  {
   "cell_type": "markdown",
   "metadata": {},
   "source": [
    "**STATISTICAL FORECASTING - HOLT WINTERS**"
   ]
  },
  {
   "cell_type": "code",
   "execution_count": 21,
   "metadata": {},
   "outputs": [],
   "source": [
    "def seasonal_factors_mul(s,d,slen,cols):\n",
    "    for i in range(slen):\n",
    "        idx=[x for x in range(cols) if x%slen==i] #compute indices that correspond to this season\n",
    "        s[i]=np.mean(d[idx]) #compute season average\n",
    "    s -=np.mean(s[:slen])\n",
    "    return s"
   ]
  },
  {
   "cell_type": "code",
   "execution_count": 22,
   "metadata": {},
   "outputs": [],
   "source": [
    "def triple_exp_smooth_mul_t(z,slen,extra_periods,alpha,beta,phi,gamma,item):\n",
    "    m=z.Date\n",
    "    d=z.order\n",
    "    d=np.array(d) #transform the input into a numpy array\n",
    "    cols=len(d) #historical period length\n",
    "    d=np.append(d,[np.nan]*extra_periods) #append np.nan into the demand array to cover future periods\n",
    "    m=np.append(m,[np.nan]*extra_periods)\n",
    "    #components initialization\n",
    "    f,a,b,s,z,e=np.full((6,cols+extra_periods),np.nan)\n",
    "    s=seasonal_factors_mul(s,d,slen,cols)\n",
    "    \n",
    "    #level & trend initialization\n",
    "    a[0]=d[0]-s[0]\n",
    "    b[0]=(d[1]-s[1])-(d[0]-s[0])\n",
    "    z[0]=0\n",
    "\n",
    "    #create the forecast first season\n",
    "    for t in range(1,slen):\n",
    "        f[t]=a[t-1]+phi*b[t-1]+s[t]\n",
    "        a[t]=alpha*(d[t]-s[t])+(1-alpha)*(a[t-1]+phi*b[t-1])\n",
    "        b[t]=beta*(a[t]-a[t-1])+(1-beta)*phi*b[t-1]\n",
    "        z[t]=0\n",
    "        e[t]=i\n",
    "    \n",
    "    #create all the t+1 forecasts\n",
    "    for  t in range(slen,cols):\n",
    "        f[t]=a[t-1]+phi*b[t-1]+s[t-slen]\n",
    "        a[t]=alpha*(d[t]-s[t-slen])+(1-alpha)*(a[t-1]+phi*b[t-1])\n",
    "        b[t]=beta*(a[t]-a[t-1])+(1-beta)*phi*b[t-1]\n",
    "        s[t]=gamma*(d[t]-a[t])+(1-gamma)*s[t-slen]\n",
    "        z[t]=0\n",
    "        e[t]=i\n",
    "\n",
    "    #forecast for all extra periods\n",
    "    for t in range(cols,cols+extra_periods):\n",
    "        f[t]=a[t-1]+phi*b[t-1]+s[t-slen]      \n",
    "        a[t]=f[t]-s[t-slen]\n",
    "        b[t]=phi*b[t-1]\n",
    "        s[t]=s[t-slen]\n",
    "        z[t]=1\n",
    "        e[t]=i\n",
    "        \n",
    "    df=pd.DataFrame.from_dict({'Item':i,'Date':m,'Demand':d,'Forecast':f,'Flag':z,'Level':a,'Trend':b,'Season':s,'Error':d-f})\n",
    "    return df"
   ]
  },
  {
   "cell_type": "code",
   "execution_count": 23,
   "metadata": {},
   "outputs": [],
   "source": [
    "import sklearn.metrics\n",
    "from sklearn.metrics import mean_squared_error"
   ]
  },
  {
   "cell_type": "code",
   "execution_count": 25,
   "metadata": {},
   "outputs": [],
   "source": [
    "import warnings\n",
    "warnings.filterwarnings(\"ignore\")\n",
    "\n",
    "# Tuned Optimization: Triple Expo     \n",
    "RMSE={}\n",
    "forecast_model={}\n",
    "\n",
    "alpha=[0.13,0.15,0.16]\n",
    "beta=[0,0,0]\n",
    "phi=[0,0,0]\n",
    "gamma=[0.015,0.020,0.025]\n",
    "\n",
    "min_error=float('inf')\n",
    "min_alph_index=0\n",
    "min_beta_index=0\n",
    "min_phi_index=0\n",
    "min_gamma_index=0\n",
    "opt_index = 0\n",
    "\n",
    "inc=0 #alpha iteration\n",
    "ite=0 #beta iteration\n",
    "ipe=0 #phi iteration\n",
    "ige=0 #gamma iteration\n",
    "\n",
    "outputs=[]\n",
    "inc_i=0\n",
    "for i in karo_agg.item.unique():\n",
    "        #if i==9:\n",
    "            df=karo_agg[(karo_agg.item==i)][['Date','order']]\n",
    "            df=df.sort_values(by='Date',ascending=True)\n",
    "\n",
    "            min_error=float('inf')\n",
    "\n",
    "            if i in karo_agg['item'].unique():\n",
    "                outputs=[]\n",
    "                inc=0\n",
    "                size=len(df)\n",
    "                for t in alpha:\n",
    "                    ite=0\n",
    "                    for z in beta:\n",
    "                        ipe=0\n",
    "                        for r in phi:\n",
    "                            ige=0\n",
    "                            for w in gamma:\n",
    "                                df_triple=triple_exp_smooth_mul_t(df,slen=12,extra_periods=6,alpha=t,beta=z,phi=r,gamma=w,item=i)\n",
    "                                future_date=np.array(['2020-8', '2020-9', '2020-10', '2020-11', '2020-12', '2021-1'])\n",
    "                                for h in range(0,6): # add dates of validation set\n",
    "                                    df_triple.Date[size+h]=future_date[h]\n",
    "                                outputs.append(df_triple[['Date','Item','Forecast']][-6:]) # append all dataframe for each store & dept combination\n",
    "                                #rmse_score = math.sqrt(np.square(np.subtract(df_triple.Demand[size-6:size],df_triple.Forecast[size-6:size])).mean())\n",
    "                                rmse_score = math.sqrt(sklearn.metrics.mean_squared_error(df_triple.Demand[size-6:size],df_triple.Forecast[size-6:size]))\n",
    "                                if rmse_score < min_error:\n",
    "                                    min_error=rmse_score\n",
    "                                    min_alph_index=inc\n",
    "                                    min_beta_index=ite\n",
    "                                    min_phi_index=ipe\n",
    "                                    min_gamma_index=ige\n",
    "                                    opt_index = (min_alph_index*27 + min_beta_index*9 + min_phi_index*3 + min_gamma_index +1) -1 # record opt. index\n",
    "                                ige=ige+1\n",
    "                            ipe=ipe+1\n",
    "                        ite=ite+1\n",
    "                    inc=inc+1\n",
    "                opt_alpha=alpha[min_alph_index]\n",
    "                opt_beta=beta[min_beta_index]\n",
    "                opt_phi=phi[min_phi_index]\n",
    "                opt_gamma=gamma[min_gamma_index]\n",
    "                forecast_model[i]=outputs[opt_index]\n",
    "                RMSE[i,opt_alpha,opt_beta,opt_phi,opt_gamma]=round(rmse_score,4)\n",
    "            else:   \n",
    "                RMSE[i,0,0,0,0]=0"
   ]
  },
  {
   "cell_type": "code",
   "execution_count": 26,
   "metadata": {},
   "outputs": [
    {
     "data": {
      "text/html": [
       "<div>\n",
       "<style scoped>\n",
       "    .dataframe tbody tr th:only-of-type {\n",
       "        vertical-align: middle;\n",
       "    }\n",
       "\n",
       "    .dataframe tbody tr th {\n",
       "        vertical-align: top;\n",
       "    }\n",
       "\n",
       "    .dataframe thead th {\n",
       "        text-align: right;\n",
       "    }\n",
       "</style>\n",
       "<table border=\"1\" class=\"dataframe\">\n",
       "  <thead>\n",
       "    <tr style=\"text-align: right;\">\n",
       "      <th></th>\n",
       "      <th>Item</th>\n",
       "      <th>Alpha_Triple</th>\n",
       "      <th>Beta_Triple</th>\n",
       "      <th>Phi</th>\n",
       "      <th>Gamma</th>\n",
       "      <th>TripleExp_Result</th>\n",
       "    </tr>\n",
       "  </thead>\n",
       "  <tbody>\n",
       "    <tr>\n",
       "      <th>0</th>\n",
       "      <td>0.0</td>\n",
       "      <td>0.15</td>\n",
       "      <td>0</td>\n",
       "      <td>0</td>\n",
       "      <td>0.015</td>\n",
       "      <td>925.7702</td>\n",
       "    </tr>\n",
       "    <tr>\n",
       "      <th>1</th>\n",
       "      <td>1.0</td>\n",
       "      <td>0.16</td>\n",
       "      <td>0</td>\n",
       "      <td>0</td>\n",
       "      <td>0.015</td>\n",
       "      <td>839.6644</td>\n",
       "    </tr>\n",
       "    <tr>\n",
       "      <th>2</th>\n",
       "      <td>2.0</td>\n",
       "      <td>0.16</td>\n",
       "      <td>0</td>\n",
       "      <td>0</td>\n",
       "      <td>0.015</td>\n",
       "      <td>594.9351</td>\n",
       "    </tr>\n",
       "    <tr>\n",
       "      <th>3</th>\n",
       "      <td>3.0</td>\n",
       "      <td>0.13</td>\n",
       "      <td>0</td>\n",
       "      <td>0</td>\n",
       "      <td>0.015</td>\n",
       "      <td>1151.2425</td>\n",
       "    </tr>\n",
       "    <tr>\n",
       "      <th>4</th>\n",
       "      <td>4.0</td>\n",
       "      <td>0.13</td>\n",
       "      <td>0</td>\n",
       "      <td>0</td>\n",
       "      <td>0.015</td>\n",
       "      <td>469.5487</td>\n",
       "    </tr>\n",
       "  </tbody>\n",
       "</table>\n",
       "</div>"
      ],
      "text/plain": [
       "   Item  Alpha_Triple  Beta_Triple  Phi  Gamma  TripleExp_Result\n",
       "0   0.0          0.15            0    0  0.015          925.7702\n",
       "1   1.0          0.16            0    0  0.015          839.6644\n",
       "2   2.0          0.16            0    0  0.015          594.9351\n",
       "3   3.0          0.13            0    0  0.015         1151.2425\n",
       "4   4.0          0.13            0    0  0.015          469.5487"
      ]
     },
     "execution_count": 26,
     "metadata": {},
     "output_type": "execute_result"
    }
   ],
   "source": [
    "# Evaluate performance of the Multiplicative Triple Exponential Model\n",
    "item=[(k[0]) for k,v in RMSE.items()]\n",
    "item=pd.DataFrame(item,columns=['Item'])\n",
    "\n",
    "alpha=[(k[1]) for k,v in RMSE.items()]\n",
    "alpha=pd.DataFrame(alpha,columns=['Alpha_Triple'])\n",
    "\n",
    "beta=[(k[2]) for k,v in RMSE.items()]\n",
    "beta=pd.DataFrame(beta,columns=['Beta_Triple'])\n",
    "\n",
    "phi=[(k[3]) for k,v in RMSE.items()]\n",
    "phi=pd.DataFrame(phi,columns=['Phi'])\n",
    "\n",
    "gamma=[(k[4]) for k,v in RMSE.items()]\n",
    "gamma=pd.DataFrame(gamma,columns=['Gamma'])\n",
    "\n",
    "RMSE_per_trip=[v for k,v in RMSE.items()]\n",
    "RMSE_per_trip=pd.DataFrame(RMSE_per_trip,columns=['TripleExp_Result'])\n",
    "\n",
    "triple_performance=pd.concat([item,alpha,beta,phi,gamma,RMSE_per_trip],axis=1)\n",
    "triple_performance.dropna(subset=['TripleExp_Result'], how='all', inplace=True)\n",
    "triple_performance.head()"
   ]
  },
  {
   "cell_type": "code",
   "execution_count": 27,
   "metadata": {},
   "outputs": [],
   "source": [
    "final_triple=triple_performance.copy()\n",
    "final_triple['Method']='TripleExpo'"
   ]
  },
  {
   "cell_type": "code",
   "execution_count": 28,
   "metadata": {},
   "outputs": [
    {
     "data": {
      "text/plain": [
       "1228.2275378393128"
      ]
     },
     "execution_count": 28,
     "metadata": {},
     "output_type": "execute_result"
    }
   ],
   "source": [
    "final_triple['TripleSquare']=final_triple.TripleExp_Result.apply(lambda x:x**2)\n",
    "math.sqrt(final_triple['TripleSquare'].mean())"
   ]
  },
  {
   "cell_type": "code",
   "execution_count": 29,
   "metadata": {},
   "outputs": [
    {
     "data": {
      "text/plain": [
       "967.1602024096385"
      ]
     },
     "execution_count": 29,
     "metadata": {},
     "output_type": "execute_result"
    }
   ],
   "source": [
    "final_triple['TripleExp_Result'].mean()"
   ]
  },
  {
   "cell_type": "code",
   "execution_count": 37,
   "metadata": {},
   "outputs": [
    {
     "data": {
      "text/html": [
       "<div>\n",
       "<style scoped>\n",
       "    .dataframe tbody tr th:only-of-type {\n",
       "        vertical-align: middle;\n",
       "    }\n",
       "\n",
       "    .dataframe tbody tr th {\n",
       "        vertical-align: top;\n",
       "    }\n",
       "\n",
       "    .dataframe thead th {\n",
       "        text-align: right;\n",
       "    }\n",
       "</style>\n",
       "<table border=\"1\" class=\"dataframe\">\n",
       "  <thead>\n",
       "    <tr style=\"text-align: right;\">\n",
       "      <th></th>\n",
       "      <th>Item</th>\n",
       "      <th>Alpha_Triple</th>\n",
       "      <th>Beta_Triple</th>\n",
       "      <th>Phi</th>\n",
       "      <th>Gamma</th>\n",
       "      <th>TripleExp_Result</th>\n",
       "      <th>Method</th>\n",
       "      <th>TripleSquare</th>\n",
       "    </tr>\n",
       "  </thead>\n",
       "  <tbody>\n",
       "    <tr>\n",
       "      <th>70</th>\n",
       "      <td>70.0</td>\n",
       "      <td>0.16</td>\n",
       "      <td>0</td>\n",
       "      <td>0</td>\n",
       "      <td>0.015</td>\n",
       "      <td>3481.9822</td>\n",
       "      <td>TripleExpo</td>\n",
       "      <td>1.212420e+07</td>\n",
       "    </tr>\n",
       "    <tr>\n",
       "      <th>9</th>\n",
       "      <td>9.0</td>\n",
       "      <td>0.13</td>\n",
       "      <td>0</td>\n",
       "      <td>0</td>\n",
       "      <td>0.025</td>\n",
       "      <td>3478.6329</td>\n",
       "      <td>TripleExpo</td>\n",
       "      <td>1.210089e+07</td>\n",
       "    </tr>\n",
       "    <tr>\n",
       "      <th>11</th>\n",
       "      <td>11.0</td>\n",
       "      <td>0.13</td>\n",
       "      <td>0</td>\n",
       "      <td>0</td>\n",
       "      <td>0.015</td>\n",
       "      <td>2962.6256</td>\n",
       "      <td>TripleExpo</td>\n",
       "      <td>8.777150e+06</td>\n",
       "    </tr>\n",
       "    <tr>\n",
       "      <th>71</th>\n",
       "      <td>71.0</td>\n",
       "      <td>0.16</td>\n",
       "      <td>0</td>\n",
       "      <td>0</td>\n",
       "      <td>0.015</td>\n",
       "      <td>2615.6188</td>\n",
       "      <td>TripleExpo</td>\n",
       "      <td>6.841462e+06</td>\n",
       "    </tr>\n",
       "    <tr>\n",
       "      <th>79</th>\n",
       "      <td>79.0</td>\n",
       "      <td>0.13</td>\n",
       "      <td>0</td>\n",
       "      <td>0</td>\n",
       "      <td>0.015</td>\n",
       "      <td>2563.4714</td>\n",
       "      <td>TripleExpo</td>\n",
       "      <td>6.571386e+06</td>\n",
       "    </tr>\n",
       "  </tbody>\n",
       "</table>\n",
       "</div>"
      ],
      "text/plain": [
       "    Item  Alpha_Triple  Beta_Triple  Phi  Gamma  TripleExp_Result      Method  \\\n",
       "70  70.0          0.16            0    0  0.015         3481.9822  TripleExpo   \n",
       "9    9.0          0.13            0    0  0.025         3478.6329  TripleExpo   \n",
       "11  11.0          0.13            0    0  0.015         2962.6256  TripleExpo   \n",
       "71  71.0          0.16            0    0  0.015         2615.6188  TripleExpo   \n",
       "79  79.0          0.13            0    0  0.015         2563.4714  TripleExpo   \n",
       "\n",
       "    TripleSquare  \n",
       "70  1.212420e+07  \n",
       "9   1.210089e+07  \n",
       "11  8.777150e+06  \n",
       "71  6.841462e+06  \n",
       "79  6.571386e+06  "
      ]
     },
     "execution_count": 37,
     "metadata": {},
     "output_type": "execute_result"
    }
   ],
   "source": [
    "final_triple.sort_values(by='TripleExp_Result',ascending=False).head()"
   ]
  },
  {
   "cell_type": "code",
   "execution_count": 38,
   "metadata": {},
   "outputs": [],
   "source": [
    "# Evaluate performance of the Multiplicative Triple Exponential Model\n",
    "nrow=len(forecast_model.keys())\n",
    "df_forecast_tuned=pd.DataFrame()\n",
    "for i in range(nrow):\n",
    "    df_inter=forecast_model[list(forecast_model.keys())[i]]\n",
    "    df_forecast_tuned=df_forecast_tuned.append(df_inter)"
   ]
  },
  {
   "cell_type": "code",
   "execution_count": 39,
   "metadata": {},
   "outputs": [],
   "source": [
    "df_forecast_tuned=df_forecast_tuned.reset_index(drop=True)"
   ]
  },
  {
   "cell_type": "code",
   "execution_count": 40,
   "metadata": {},
   "outputs": [
    {
     "data": {
      "text/html": [
       "<div>\n",
       "<style scoped>\n",
       "    .dataframe tbody tr th:only-of-type {\n",
       "        vertical-align: middle;\n",
       "    }\n",
       "\n",
       "    .dataframe tbody tr th {\n",
       "        vertical-align: top;\n",
       "    }\n",
       "\n",
       "    .dataframe thead th {\n",
       "        text-align: right;\n",
       "    }\n",
       "</style>\n",
       "<table border=\"1\" class=\"dataframe\">\n",
       "  <thead>\n",
       "    <tr style=\"text-align: right;\">\n",
       "      <th></th>\n",
       "      <th>Date</th>\n",
       "      <th>Item</th>\n",
       "      <th>Forecast</th>\n",
       "    </tr>\n",
       "  </thead>\n",
       "  <tbody>\n",
       "    <tr>\n",
       "      <th>0</th>\n",
       "      <td>2020-8</td>\n",
       "      <td>0.0</td>\n",
       "      <td>1904.255680</td>\n",
       "    </tr>\n",
       "    <tr>\n",
       "      <th>1</th>\n",
       "      <td>2020-9</td>\n",
       "      <td>0.0</td>\n",
       "      <td>2120.533156</td>\n",
       "    </tr>\n",
       "    <tr>\n",
       "      <th>2</th>\n",
       "      <td>2020-10</td>\n",
       "      <td>0.0</td>\n",
       "      <td>1127.196011</td>\n",
       "    </tr>\n",
       "    <tr>\n",
       "      <th>3</th>\n",
       "      <td>2020-11</td>\n",
       "      <td>0.0</td>\n",
       "      <td>878.173438</td>\n",
       "    </tr>\n",
       "    <tr>\n",
       "      <th>4</th>\n",
       "      <td>2020-12</td>\n",
       "      <td>0.0</td>\n",
       "      <td>1353.294250</td>\n",
       "    </tr>\n",
       "  </tbody>\n",
       "</table>\n",
       "</div>"
      ],
      "text/plain": [
       "      Date  Item     Forecast\n",
       "0   2020-8   0.0  1904.255680\n",
       "1   2020-9   0.0  2120.533156\n",
       "2  2020-10   0.0  1127.196011\n",
       "3  2020-11   0.0   878.173438\n",
       "4  2020-12   0.0  1353.294250"
      ]
     },
     "execution_count": 40,
     "metadata": {},
     "output_type": "execute_result"
    }
   ],
   "source": [
    "df_forecast_tuned.head()"
   ]
  },
  {
   "cell_type": "markdown",
   "metadata": {},
   "source": [
    "------"
   ]
  },
  {
   "cell_type": "code",
   "execution_count": 41,
   "metadata": {},
   "outputs": [],
   "source": [
    "final_submit=df_forecast_tuned"
   ]
  },
  {
   "cell_type": "code",
   "execution_count": 42,
   "metadata": {},
   "outputs": [],
   "source": [
    "final_submit.reset_index(drop=True,inplace=True)"
   ]
  },
  {
   "cell_type": "code",
   "execution_count": 43,
   "metadata": {},
   "outputs": [
    {
     "data": {
      "text/plain": [
       "498"
      ]
     },
     "execution_count": 43,
     "metadata": {},
     "output_type": "execute_result"
    }
   ],
   "source": [
    "len(final_submit)"
   ]
  },
  {
   "cell_type": "markdown",
   "metadata": {},
   "source": [
    "**Transaction ID**"
   ]
  },
  {
   "cell_type": "code",
   "execution_count": 46,
   "metadata": {},
   "outputs": [],
   "source": [
    "id_data= pd.read_excel('~/Eczacibasi-kaggle/dataset/id.xlsx')"
   ]
  },
  {
   "cell_type": "code",
   "execution_count": 49,
   "metadata": {},
   "outputs": [
    {
     "data": {
      "text/html": [
       "<div>\n",
       "<style scoped>\n",
       "    .dataframe tbody tr th:only-of-type {\n",
       "        vertical-align: middle;\n",
       "    }\n",
       "\n",
       "    .dataframe tbody tr th {\n",
       "        vertical-align: top;\n",
       "    }\n",
       "\n",
       "    .dataframe thead th {\n",
       "        text-align: right;\n",
       "    }\n",
       "</style>\n",
       "<table border=\"1\" class=\"dataframe\">\n",
       "  <thead>\n",
       "    <tr style=\"text-align: right;\">\n",
       "      <th></th>\n",
       "      <th>id</th>\n",
       "      <th>customer</th>\n",
       "      <th>item</th>\n",
       "      <th>date</th>\n",
       "    </tr>\n",
       "  </thead>\n",
       "  <tbody>\n",
       "    <tr>\n",
       "      <th>0</th>\n",
       "      <td>1</td>\n",
       "      <td>A</td>\n",
       "      <td>0</td>\n",
       "      <td>2020-10</td>\n",
       "    </tr>\n",
       "    <tr>\n",
       "      <th>1</th>\n",
       "      <td>2</td>\n",
       "      <td>A</td>\n",
       "      <td>0</td>\n",
       "      <td>2020-11</td>\n",
       "    </tr>\n",
       "    <tr>\n",
       "      <th>2</th>\n",
       "      <td>3</td>\n",
       "      <td>A</td>\n",
       "      <td>0</td>\n",
       "      <td>2020-12</td>\n",
       "    </tr>\n",
       "    <tr>\n",
       "      <th>3</th>\n",
       "      <td>4</td>\n",
       "      <td>A</td>\n",
       "      <td>0</td>\n",
       "      <td>2020-8</td>\n",
       "    </tr>\n",
       "    <tr>\n",
       "      <th>4</th>\n",
       "      <td>5</td>\n",
       "      <td>A</td>\n",
       "      <td>0</td>\n",
       "      <td>2020-9</td>\n",
       "    </tr>\n",
       "  </tbody>\n",
       "</table>\n",
       "</div>"
      ],
      "text/plain": [
       "   id customer  item     date\n",
       "0   1        A     0  2020-10\n",
       "1   2        A     0  2020-11\n",
       "2   3        A     0  2020-12\n",
       "3   4        A     0   2020-8\n",
       "4   5        A     0   2020-9"
      ]
     },
     "execution_count": 49,
     "metadata": {},
     "output_type": "execute_result"
    }
   ],
   "source": [
    "id_data.head()"
   ]
  },
  {
   "cell_type": "code",
   "execution_count": 50,
   "metadata": {},
   "outputs": [
    {
     "data": {
      "text/html": [
       "<div>\n",
       "<style scoped>\n",
       "    .dataframe tbody tr th:only-of-type {\n",
       "        vertical-align: middle;\n",
       "    }\n",
       "\n",
       "    .dataframe tbody tr th {\n",
       "        vertical-align: top;\n",
       "    }\n",
       "\n",
       "    .dataframe thead th {\n",
       "        text-align: right;\n",
       "    }\n",
       "</style>\n",
       "<table border=\"1\" class=\"dataframe\">\n",
       "  <thead>\n",
       "    <tr style=\"text-align: right;\">\n",
       "      <th></th>\n",
       "      <th>id</th>\n",
       "      <th>customer</th>\n",
       "      <th>Item</th>\n",
       "      <th>Date</th>\n",
       "    </tr>\n",
       "  </thead>\n",
       "  <tbody>\n",
       "    <tr>\n",
       "      <th>0</th>\n",
       "      <td>1</td>\n",
       "      <td>A</td>\n",
       "      <td>0</td>\n",
       "      <td>2020-10</td>\n",
       "    </tr>\n",
       "    <tr>\n",
       "      <th>1</th>\n",
       "      <td>2</td>\n",
       "      <td>A</td>\n",
       "      <td>0</td>\n",
       "      <td>2020-11</td>\n",
       "    </tr>\n",
       "    <tr>\n",
       "      <th>2</th>\n",
       "      <td>3</td>\n",
       "      <td>A</td>\n",
       "      <td>0</td>\n",
       "      <td>2020-12</td>\n",
       "    </tr>\n",
       "    <tr>\n",
       "      <th>3</th>\n",
       "      <td>4</td>\n",
       "      <td>A</td>\n",
       "      <td>0</td>\n",
       "      <td>2020-8</td>\n",
       "    </tr>\n",
       "    <tr>\n",
       "      <th>4</th>\n",
       "      <td>5</td>\n",
       "      <td>A</td>\n",
       "      <td>0</td>\n",
       "      <td>2020-9</td>\n",
       "    </tr>\n",
       "  </tbody>\n",
       "</table>\n",
       "</div>"
      ],
      "text/plain": [
       "   id customer  Item     Date\n",
       "0   1        A     0  2020-10\n",
       "1   2        A     0  2020-11\n",
       "2   3        A     0  2020-12\n",
       "3   4        A     0   2020-8\n",
       "4   5        A     0   2020-9"
      ]
     },
     "execution_count": 50,
     "metadata": {},
     "output_type": "execute_result"
    }
   ],
   "source": [
    "id_data.columns=['id','customer','Item','Date']\n",
    "id_data.head()"
   ]
  },
  {
   "cell_type": "code",
   "execution_count": 51,
   "metadata": {},
   "outputs": [],
   "source": [
    "final=pd.merge(left=id_data,right=final_submit,on=['Date','Item'],how='right')\n",
    "final=final[['id','Forecast']]\n",
    "final=final.sort_values(by='id')"
   ]
  },
  {
   "cell_type": "code",
   "execution_count": 52,
   "metadata": {},
   "outputs": [
    {
     "data": {
      "text/plain": [
       "498"
      ]
     },
     "execution_count": 52,
     "metadata": {},
     "output_type": "execute_result"
    }
   ],
   "source": [
    "len(final)"
   ]
  },
  {
   "cell_type": "code",
   "execution_count": 54,
   "metadata": {},
   "outputs": [
    {
     "data": {
      "text/html": [
       "<div>\n",
       "<style scoped>\n",
       "    .dataframe tbody tr th:only-of-type {\n",
       "        vertical-align: middle;\n",
       "    }\n",
       "\n",
       "    .dataframe tbody tr th {\n",
       "        vertical-align: top;\n",
       "    }\n",
       "\n",
       "    .dataframe thead th {\n",
       "        text-align: right;\n",
       "    }\n",
       "</style>\n",
       "<table border=\"1\" class=\"dataframe\">\n",
       "  <thead>\n",
       "    <tr style=\"text-align: right;\">\n",
       "      <th></th>\n",
       "      <th>id</th>\n",
       "      <th>Forecast</th>\n",
       "    </tr>\n",
       "  </thead>\n",
       "  <tbody>\n",
       "    <tr>\n",
       "      <th>0</th>\n",
       "      <td>1</td>\n",
       "      <td>1127.196011</td>\n",
       "    </tr>\n",
       "    <tr>\n",
       "      <th>1</th>\n",
       "      <td>2</td>\n",
       "      <td>878.173438</td>\n",
       "    </tr>\n",
       "    <tr>\n",
       "      <th>2</th>\n",
       "      <td>3</td>\n",
       "      <td>1353.294250</td>\n",
       "    </tr>\n",
       "    <tr>\n",
       "      <th>3</th>\n",
       "      <td>4</td>\n",
       "      <td>1904.255680</td>\n",
       "    </tr>\n",
       "    <tr>\n",
       "      <th>4</th>\n",
       "      <td>5</td>\n",
       "      <td>2120.533156</td>\n",
       "    </tr>\n",
       "  </tbody>\n",
       "</table>\n",
       "</div>"
      ],
      "text/plain": [
       "   id     Forecast\n",
       "0   1  1127.196011\n",
       "1   2   878.173438\n",
       "2   3  1353.294250\n",
       "3   4  1904.255680\n",
       "4   5  2120.533156"
      ]
     },
     "execution_count": 54,
     "metadata": {},
     "output_type": "execute_result"
    }
   ],
   "source": [
    "final=final.reset_index(drop=True)\n",
    "final.head()"
   ]
  },
  {
   "cell_type": "markdown",
   "metadata": {},
   "source": [
    "**Write csv**"
   ]
  },
  {
   "cell_type": "code",
   "execution_count": 56,
   "metadata": {},
   "outputs": [],
   "source": [
    "final.to_csv('forecast.csv',index=False)"
   ]
  },
  {
   "cell_type": "markdown",
   "metadata": {},
   "source": [
    "-----"
   ]
  }
 ],
 "metadata": {
  "kernelspec": {
   "display_name": "Python 3",
   "language": "python",
   "name": "python3"
  },
  "language_info": {
   "codemirror_mode": {
    "name": "ipython",
    "version": 3
   },
   "file_extension": ".py",
   "mimetype": "text/x-python",
   "name": "python",
   "nbconvert_exporter": "python",
   "pygments_lexer": "ipython3",
   "version": "3.7.6"
  }
 },
 "nbformat": 4,
 "nbformat_minor": 4
}
